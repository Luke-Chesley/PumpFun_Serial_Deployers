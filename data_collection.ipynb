{
 "cells": [
  {
   "cell_type": "markdown",
   "metadata": {},
   "source": [
    "The on chain data was collected from flipside crypto api.\n",
    "\n",
    "1. All pump.fun coins created since the inception of the platform \n",
    "\n",
    "```sql\n",
    "SELECT\n",
    "    BLOCK_TIMESTAMP AS creation_time,\n",
    "    TX_ID AS transaction_id,\n",
    "    SIGNERS[0]::varchar AS creator_address,\n",
    "    DECODED_INSTRUCTION:accounts[0]::varchar AS token_mint_address,\n",
    "    DECODED_INSTRUCTION:accounts[7]::varchar AS account_user,\n",
    "    DECODED_INSTRUCTION:args.name::varchar AS coin_name\n",
    "FROM solana.core.fact_decoded_instructions\n",
    "WHERE PROGRAM_ID = '6EF8rrecthR5Dkzon8Nwu78hRvfCKubJ14M5uBEwF6P'\n",
    "    AND BLOCK_TIMESTAMP >= TIMESTAMP '{start_date}'\n",
    "    AND BLOCK_TIMESTAMP < TIMESTAMP '{end_date}'\n",
    "    AND EVENT_TYPE = 'create'\n",
    "ORDER BY BLOCK_TIMESTAMP DESC\n",
    "\n",
    "```\n",
    "\n",
    "\n",
    "2. Get transaction history of pump.fun coins\n",
    "\n",
    "```sql\n",
    "    SELECT\n",
    "        block_timestamp,\n",
    "        tx_id,\n",
    "        swapper,\n",
    "        swap_from_mint AS from_mint,\n",
    "        swap_from_amount AS from_amount,\n",
    "        swap_from_amount_usd AS from_usd,\n",
    "        swap_to_mint AS to_mint,\n",
    "        swap_to_amount AS to_amount,\n",
    "        swap_to_amount_usd AS to_usd\n",
    "    FROM solana.defi.ez_dex_swaps\n",
    "    WHERE swap_from_mint IN ({mint_list}) OR swap_to_mint IN ({mint_list})\n",
    "\n",
    "```"
   ]
  },
  {
   "cell_type": "markdown",
   "metadata": {},
   "source": []
  }
 ],
 "metadata": {
  "kernelspec": {
   "display_name": ".venv",
   "language": "python",
   "name": "python3"
  },
  "language_info": {
   "name": "python",
   "version": "3.11.11"
  }
 },
 "nbformat": 4,
 "nbformat_minor": 2
}
